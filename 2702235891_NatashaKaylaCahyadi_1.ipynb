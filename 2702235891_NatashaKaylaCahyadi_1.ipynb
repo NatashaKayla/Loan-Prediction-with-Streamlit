{
 "cells": [
  {
   "cell_type": "markdown",
   "id": "1f5816a6",
   "metadata": {},
   "source": [
    "**Mid Exam Model Deployment**\n",
    "\n",
    "Nama : Natasha Kayla Cahyadi\n",
    "\n",
    "NIM : 2702235891\n",
    "\n",
    "Kelas : LC09"
   ]
  },
  {
   "cell_type": "markdown",
   "id": "598f1ada",
   "metadata": {},
   "source": [
    "# Libraries"
   ]
  },
  {
   "cell_type": "code",
   "execution_count": 35,
   "id": "8085f87a",
   "metadata": {},
   "outputs": [],
   "source": [
    "# Import libraries\n",
    "import pandas as pd\n",
    "import numpy as np\n",
    "import pickle as pkl\n",
    "\n",
    "import seaborn as sns\n",
    "from matplotlib import pyplot as plt\n",
    "\n",
    "from sklearn.preprocessing import OneHotEncoder\n",
    "\n",
    "from sklearn.model_selection import train_test_split\n",
    "from sklearn.preprocessing import RobustScaler\n",
    "from sklearn.ensemble import RandomForestClassifier\n",
    "from xgboost import XGBClassifier\n",
    "from sklearn.metrics import classification_report"
   ]
  },
  {
   "cell_type": "markdown",
   "id": "1819091f",
   "metadata": {},
   "source": [
    "# Data Preparation"
   ]
  },
  {
   "cell_type": "code",
   "execution_count": 36,
   "id": "9eea6757",
   "metadata": {},
   "outputs": [],
   "source": [
    "# Read the data\n",
    "df = pd.read_csv('Dataset_A_loan.csv')"
   ]
  },
  {
   "cell_type": "code",
   "execution_count": 37,
   "id": "7c51c469",
   "metadata": {},
   "outputs": [
    {
     "data": {
      "text/html": [
       "<div>\n",
       "<style scoped>\n",
       "    .dataframe tbody tr th:only-of-type {\n",
       "        vertical-align: middle;\n",
       "    }\n",
       "\n",
       "    .dataframe tbody tr th {\n",
       "        vertical-align: top;\n",
       "    }\n",
       "\n",
       "    .dataframe thead th {\n",
       "        text-align: right;\n",
       "    }\n",
       "</style>\n",
       "<table border=\"1\" class=\"dataframe\">\n",
       "  <thead>\n",
       "    <tr style=\"text-align: right;\">\n",
       "      <th></th>\n",
       "      <th>person_age</th>\n",
       "      <th>person_gender</th>\n",
       "      <th>person_education</th>\n",
       "      <th>person_income</th>\n",
       "      <th>person_emp_exp</th>\n",
       "      <th>person_home_ownership</th>\n",
       "      <th>loan_amnt</th>\n",
       "      <th>loan_intent</th>\n",
       "      <th>loan_int_rate</th>\n",
       "      <th>loan_percent_income</th>\n",
       "      <th>cb_person_cred_hist_length</th>\n",
       "      <th>credit_score</th>\n",
       "      <th>previous_loan_defaults_on_file</th>\n",
       "      <th>loan_status</th>\n",
       "    </tr>\n",
       "  </thead>\n",
       "  <tbody>\n",
       "    <tr>\n",
       "      <th>0</th>\n",
       "      <td>22.0</td>\n",
       "      <td>female</td>\n",
       "      <td>Master</td>\n",
       "      <td>71948.0</td>\n",
       "      <td>0</td>\n",
       "      <td>RENT</td>\n",
       "      <td>35000.0</td>\n",
       "      <td>PERSONAL</td>\n",
       "      <td>16.02</td>\n",
       "      <td>0.49</td>\n",
       "      <td>3.0</td>\n",
       "      <td>561</td>\n",
       "      <td>No</td>\n",
       "      <td>1</td>\n",
       "    </tr>\n",
       "    <tr>\n",
       "      <th>1</th>\n",
       "      <td>21.0</td>\n",
       "      <td>female</td>\n",
       "      <td>High School</td>\n",
       "      <td>12282.0</td>\n",
       "      <td>0</td>\n",
       "      <td>OWN</td>\n",
       "      <td>1000.0</td>\n",
       "      <td>EDUCATION</td>\n",
       "      <td>11.14</td>\n",
       "      <td>0.08</td>\n",
       "      <td>2.0</td>\n",
       "      <td>504</td>\n",
       "      <td>Yes</td>\n",
       "      <td>0</td>\n",
       "    </tr>\n",
       "    <tr>\n",
       "      <th>2</th>\n",
       "      <td>25.0</td>\n",
       "      <td>female</td>\n",
       "      <td>High School</td>\n",
       "      <td>12438.0</td>\n",
       "      <td>3</td>\n",
       "      <td>MORTGAGE</td>\n",
       "      <td>5500.0</td>\n",
       "      <td>MEDICAL</td>\n",
       "      <td>12.87</td>\n",
       "      <td>0.44</td>\n",
       "      <td>3.0</td>\n",
       "      <td>635</td>\n",
       "      <td>No</td>\n",
       "      <td>1</td>\n",
       "    </tr>\n",
       "    <tr>\n",
       "      <th>3</th>\n",
       "      <td>23.0</td>\n",
       "      <td>female</td>\n",
       "      <td>Bachelor</td>\n",
       "      <td>79753.0</td>\n",
       "      <td>0</td>\n",
       "      <td>RENT</td>\n",
       "      <td>35000.0</td>\n",
       "      <td>MEDICAL</td>\n",
       "      <td>15.23</td>\n",
       "      <td>0.44</td>\n",
       "      <td>2.0</td>\n",
       "      <td>675</td>\n",
       "      <td>No</td>\n",
       "      <td>1</td>\n",
       "    </tr>\n",
       "    <tr>\n",
       "      <th>4</th>\n",
       "      <td>24.0</td>\n",
       "      <td>male</td>\n",
       "      <td>Master</td>\n",
       "      <td>66135.0</td>\n",
       "      <td>1</td>\n",
       "      <td>RENT</td>\n",
       "      <td>35000.0</td>\n",
       "      <td>MEDICAL</td>\n",
       "      <td>14.27</td>\n",
       "      <td>0.53</td>\n",
       "      <td>4.0</td>\n",
       "      <td>586</td>\n",
       "      <td>No</td>\n",
       "      <td>1</td>\n",
       "    </tr>\n",
       "  </tbody>\n",
       "</table>\n",
       "</div>"
      ],
      "text/plain": [
       "   person_age person_gender person_education  person_income  person_emp_exp  \\\n",
       "0        22.0        female           Master        71948.0               0   \n",
       "1        21.0        female      High School        12282.0               0   \n",
       "2        25.0        female      High School        12438.0               3   \n",
       "3        23.0        female         Bachelor        79753.0               0   \n",
       "4        24.0          male           Master        66135.0               1   \n",
       "\n",
       "  person_home_ownership  loan_amnt loan_intent  loan_int_rate  \\\n",
       "0                  RENT    35000.0    PERSONAL          16.02   \n",
       "1                   OWN     1000.0   EDUCATION          11.14   \n",
       "2              MORTGAGE     5500.0     MEDICAL          12.87   \n",
       "3                  RENT    35000.0     MEDICAL          15.23   \n",
       "4                  RENT    35000.0     MEDICAL          14.27   \n",
       "\n",
       "   loan_percent_income  cb_person_cred_hist_length  credit_score  \\\n",
       "0                 0.49                         3.0           561   \n",
       "1                 0.08                         2.0           504   \n",
       "2                 0.44                         3.0           635   \n",
       "3                 0.44                         2.0           675   \n",
       "4                 0.53                         4.0           586   \n",
       "\n",
       "  previous_loan_defaults_on_file  loan_status  \n",
       "0                             No            1  \n",
       "1                            Yes            0  \n",
       "2                             No            1  \n",
       "3                             No            1  \n",
       "4                             No            1  "
      ]
     },
     "execution_count": 37,
     "metadata": {},
     "output_type": "execute_result"
    }
   ],
   "source": [
    "# Display the data\n",
    "df.head()"
   ]
  },
  {
   "cell_type": "code",
   "execution_count": 38,
   "id": "22063351",
   "metadata": {},
   "outputs": [
    {
     "data": {
      "text/plain": [
       "(45000, 14)"
      ]
     },
     "execution_count": 38,
     "metadata": {},
     "output_type": "execute_result"
    }
   ],
   "source": [
    "df.shape"
   ]
  },
  {
   "cell_type": "markdown",
   "id": "80863c60",
   "metadata": {},
   "source": [
    "This dataset contains 45,000 rows and 14 columns."
   ]
  },
  {
   "cell_type": "code",
   "execution_count": 39,
   "id": "2d0cb7af",
   "metadata": {},
   "outputs": [
    {
     "name": "stdout",
     "output_type": "stream",
     "text": [
      "<class 'pandas.core.frame.DataFrame'>\n",
      "RangeIndex: 45000 entries, 0 to 44999\n",
      "Data columns (total 14 columns):\n",
      " #   Column                          Non-Null Count  Dtype  \n",
      "---  ------                          --------------  -----  \n",
      " 0   person_age                      45000 non-null  float64\n",
      " 1   person_gender                   45000 non-null  object \n",
      " 2   person_education                45000 non-null  object \n",
      " 3   person_income                   42750 non-null  float64\n",
      " 4   person_emp_exp                  45000 non-null  int64  \n",
      " 5   person_home_ownership           45000 non-null  object \n",
      " 6   loan_amnt                       45000 non-null  float64\n",
      " 7   loan_intent                     45000 non-null  object \n",
      " 8   loan_int_rate                   45000 non-null  float64\n",
      " 9   loan_percent_income             45000 non-null  float64\n",
      " 10  cb_person_cred_hist_length      45000 non-null  float64\n",
      " 11  credit_score                    45000 non-null  int64  \n",
      " 12  previous_loan_defaults_on_file  45000 non-null  object \n",
      " 13  loan_status                     45000 non-null  int64  \n",
      "dtypes: float64(6), int64(3), object(5)\n",
      "memory usage: 4.8+ MB\n"
     ]
    }
   ],
   "source": [
    "# Show info of the data\n",
    "df.info()"
   ]
  },
  {
   "cell_type": "markdown",
   "id": "c779163d",
   "metadata": {},
   "source": [
    "Based on the results above, it can be seen that the 'person\\_income' column contains missing values."
   ]
  },
  {
   "cell_type": "code",
   "execution_count": 40,
   "id": "a3fb2eab",
   "metadata": {},
   "outputs": [
    {
     "data": {
      "text/html": [
       "<div>\n",
       "<style scoped>\n",
       "    .dataframe tbody tr th:only-of-type {\n",
       "        vertical-align: middle;\n",
       "    }\n",
       "\n",
       "    .dataframe tbody tr th {\n",
       "        vertical-align: top;\n",
       "    }\n",
       "\n",
       "    .dataframe thead th {\n",
       "        text-align: right;\n",
       "    }\n",
       "</style>\n",
       "<table border=\"1\" class=\"dataframe\">\n",
       "  <thead>\n",
       "    <tr style=\"text-align: right;\">\n",
       "      <th></th>\n",
       "      <th>person_age</th>\n",
       "      <th>person_income</th>\n",
       "      <th>person_emp_exp</th>\n",
       "      <th>loan_amnt</th>\n",
       "      <th>loan_int_rate</th>\n",
       "      <th>loan_percent_income</th>\n",
       "      <th>cb_person_cred_hist_length</th>\n",
       "      <th>credit_score</th>\n",
       "      <th>loan_status</th>\n",
       "    </tr>\n",
       "  </thead>\n",
       "  <tbody>\n",
       "    <tr>\n",
       "      <th>count</th>\n",
       "      <td>45000.000000</td>\n",
       "      <td>4.275000e+04</td>\n",
       "      <td>45000.000000</td>\n",
       "      <td>45000.000000</td>\n",
       "      <td>45000.000000</td>\n",
       "      <td>45000.000000</td>\n",
       "      <td>45000.000000</td>\n",
       "      <td>45000.000000</td>\n",
       "      <td>45000.000000</td>\n",
       "    </tr>\n",
       "    <tr>\n",
       "      <th>mean</th>\n",
       "      <td>27.764178</td>\n",
       "      <td>8.018223e+04</td>\n",
       "      <td>5.410333</td>\n",
       "      <td>9583.157556</td>\n",
       "      <td>11.006606</td>\n",
       "      <td>0.139725</td>\n",
       "      <td>5.867489</td>\n",
       "      <td>632.608756</td>\n",
       "      <td>0.222222</td>\n",
       "    </tr>\n",
       "    <tr>\n",
       "      <th>std</th>\n",
       "      <td>6.045108</td>\n",
       "      <td>7.331158e+04</td>\n",
       "      <td>6.063532</td>\n",
       "      <td>6314.886691</td>\n",
       "      <td>2.978808</td>\n",
       "      <td>0.087212</td>\n",
       "      <td>3.879702</td>\n",
       "      <td>50.435865</td>\n",
       "      <td>0.415744</td>\n",
       "    </tr>\n",
       "    <tr>\n",
       "      <th>min</th>\n",
       "      <td>20.000000</td>\n",
       "      <td>8.000000e+03</td>\n",
       "      <td>0.000000</td>\n",
       "      <td>500.000000</td>\n",
       "      <td>5.420000</td>\n",
       "      <td>0.000000</td>\n",
       "      <td>2.000000</td>\n",
       "      <td>390.000000</td>\n",
       "      <td>0.000000</td>\n",
       "    </tr>\n",
       "    <tr>\n",
       "      <th>25%</th>\n",
       "      <td>24.000000</td>\n",
       "      <td>4.726725e+04</td>\n",
       "      <td>1.000000</td>\n",
       "      <td>5000.000000</td>\n",
       "      <td>8.590000</td>\n",
       "      <td>0.070000</td>\n",
       "      <td>3.000000</td>\n",
       "      <td>601.000000</td>\n",
       "      <td>0.000000</td>\n",
       "    </tr>\n",
       "    <tr>\n",
       "      <th>50%</th>\n",
       "      <td>26.000000</td>\n",
       "      <td>6.705500e+04</td>\n",
       "      <td>4.000000</td>\n",
       "      <td>8000.000000</td>\n",
       "      <td>11.010000</td>\n",
       "      <td>0.120000</td>\n",
       "      <td>4.000000</td>\n",
       "      <td>640.000000</td>\n",
       "      <td>0.000000</td>\n",
       "    </tr>\n",
       "    <tr>\n",
       "      <th>75%</th>\n",
       "      <td>30.000000</td>\n",
       "      <td>9.582125e+04</td>\n",
       "      <td>8.000000</td>\n",
       "      <td>12237.250000</td>\n",
       "      <td>12.990000</td>\n",
       "      <td>0.190000</td>\n",
       "      <td>8.000000</td>\n",
       "      <td>670.000000</td>\n",
       "      <td>0.000000</td>\n",
       "    </tr>\n",
       "    <tr>\n",
       "      <th>max</th>\n",
       "      <td>144.000000</td>\n",
       "      <td>5.556399e+06</td>\n",
       "      <td>125.000000</td>\n",
       "      <td>35000.000000</td>\n",
       "      <td>20.000000</td>\n",
       "      <td>0.660000</td>\n",
       "      <td>30.000000</td>\n",
       "      <td>850.000000</td>\n",
       "      <td>1.000000</td>\n",
       "    </tr>\n",
       "  </tbody>\n",
       "</table>\n",
       "</div>"
      ],
      "text/plain": [
       "         person_age  person_income  person_emp_exp     loan_amnt  \\\n",
       "count  45000.000000   4.275000e+04    45000.000000  45000.000000   \n",
       "mean      27.764178   8.018223e+04        5.410333   9583.157556   \n",
       "std        6.045108   7.331158e+04        6.063532   6314.886691   \n",
       "min       20.000000   8.000000e+03        0.000000    500.000000   \n",
       "25%       24.000000   4.726725e+04        1.000000   5000.000000   \n",
       "50%       26.000000   6.705500e+04        4.000000   8000.000000   \n",
       "75%       30.000000   9.582125e+04        8.000000  12237.250000   \n",
       "max      144.000000   5.556399e+06      125.000000  35000.000000   \n",
       "\n",
       "       loan_int_rate  loan_percent_income  cb_person_cred_hist_length  \\\n",
       "count   45000.000000         45000.000000                45000.000000   \n",
       "mean       11.006606             0.139725                    5.867489   \n",
       "std         2.978808             0.087212                    3.879702   \n",
       "min         5.420000             0.000000                    2.000000   \n",
       "25%         8.590000             0.070000                    3.000000   \n",
       "50%        11.010000             0.120000                    4.000000   \n",
       "75%        12.990000             0.190000                    8.000000   \n",
       "max        20.000000             0.660000                   30.000000   \n",
       "\n",
       "       credit_score   loan_status  \n",
       "count  45000.000000  45000.000000  \n",
       "mean     632.608756      0.222222  \n",
       "std       50.435865      0.415744  \n",
       "min      390.000000      0.000000  \n",
       "25%      601.000000      0.000000  \n",
       "50%      640.000000      0.000000  \n",
       "75%      670.000000      0.000000  \n",
       "max      850.000000      1.000000  "
      ]
     },
     "execution_count": 40,
     "metadata": {},
     "output_type": "execute_result"
    }
   ],
   "source": [
    "# Show statistics descriptive\n",
    "df.describe()"
   ]
  },
  {
   "cell_type": "markdown",
   "id": "854c55e8",
   "metadata": {},
   "source": [
    "Based on the descriptive statistics, there are no anomalies in the numerical columns."
   ]
  },
  {
   "cell_type": "code",
   "execution_count": 41,
   "id": "3da34d1c",
   "metadata": {},
   "outputs": [
    {
     "data": {
      "text/plain": [
       "person_age                           60\n",
       "person_gender                         4\n",
       "person_education                      5\n",
       "person_income                     32637\n",
       "person_emp_exp                       63\n",
       "person_home_ownership                 4\n",
       "loan_amnt                          4483\n",
       "loan_intent                           6\n",
       "loan_int_rate                      1302\n",
       "loan_percent_income                  64\n",
       "cb_person_cred_hist_length           29\n",
       "credit_score                        340\n",
       "previous_loan_defaults_on_file        2\n",
       "loan_status                           2\n",
       "dtype: int64"
      ]
     },
     "execution_count": 41,
     "metadata": {},
     "output_type": "execute_result"
    }
   ],
   "source": [
    "# Show unique number\n",
    "df.nunique()"
   ]
  },
  {
   "cell_type": "markdown",
   "id": "6f556709",
   "metadata": {},
   "source": [
    "# Data Splitting"
   ]
  },
  {
   "cell_type": "code",
   "execution_count": 42,
   "id": "3693a443",
   "metadata": {},
   "outputs": [
    {
     "name": "stdout",
     "output_type": "stream",
     "text": [
      "(36000, 13) (9000, 13)\n"
     ]
    }
   ],
   "source": [
    "# Train Test Split\n",
    "# Drop the stage column for the variable x\n",
    "x = df[df.columns.drop(['loan_status'])]\n",
    "# Fill the y variable with stage\n",
    "y = df['loan_status']\n",
    "\n",
    "# Split the data to 80% train data and 20% test data\n",
    "x_train, x_test, y_train, y_test = train_test_split(x,y, test_size=0.2,random_state=42)\n",
    "print(x_train.shape,x_test.shape)"
   ]
  },
  {
   "cell_type": "markdown",
   "id": "0dd6d750",
   "metadata": {},
   "source": [
    "The train and test sets are split into 80% and 20%. This can be seen from the contents of `x_train`, which has 36,000 rows and 13 columns, and `x_test`, which has 9,000 rows and 13 columns."
   ]
  },
  {
   "cell_type": "code",
   "execution_count": 43,
   "id": "8d9a9f92",
   "metadata": {},
   "outputs": [
    {
     "data": {
      "text/html": [
       "<div>\n",
       "<style scoped>\n",
       "    .dataframe tbody tr th:only-of-type {\n",
       "        vertical-align: middle;\n",
       "    }\n",
       "\n",
       "    .dataframe tbody tr th {\n",
       "        vertical-align: top;\n",
       "    }\n",
       "\n",
       "    .dataframe thead th {\n",
       "        text-align: right;\n",
       "    }\n",
       "</style>\n",
       "<table border=\"1\" class=\"dataframe\">\n",
       "  <thead>\n",
       "    <tr style=\"text-align: right;\">\n",
       "      <th></th>\n",
       "      <th>person_age</th>\n",
       "      <th>person_gender</th>\n",
       "      <th>person_education</th>\n",
       "      <th>person_income</th>\n",
       "      <th>person_emp_exp</th>\n",
       "      <th>person_home_ownership</th>\n",
       "      <th>loan_amnt</th>\n",
       "      <th>loan_intent</th>\n",
       "      <th>loan_int_rate</th>\n",
       "      <th>loan_percent_income</th>\n",
       "      <th>cb_person_cred_hist_length</th>\n",
       "      <th>credit_score</th>\n",
       "      <th>previous_loan_defaults_on_file</th>\n",
       "    </tr>\n",
       "  </thead>\n",
       "  <tbody>\n",
       "    <tr>\n",
       "      <th>25180</th>\n",
       "      <td>34.0</td>\n",
       "      <td>female</td>\n",
       "      <td>Bachelor</td>\n",
       "      <td>97265.0</td>\n",
       "      <td>11</td>\n",
       "      <td>MORTGAGE</td>\n",
       "      <td>15000.0</td>\n",
       "      <td>PERSONAL</td>\n",
       "      <td>12.73</td>\n",
       "      <td>0.15</td>\n",
       "      <td>9.0</td>\n",
       "      <td>631</td>\n",
       "      <td>No</td>\n",
       "    </tr>\n",
       "    <tr>\n",
       "      <th>12555</th>\n",
       "      <td>25.0</td>\n",
       "      <td>male</td>\n",
       "      <td>High School</td>\n",
       "      <td>NaN</td>\n",
       "      <td>3</td>\n",
       "      <td>RENT</td>\n",
       "      <td>12000.0</td>\n",
       "      <td>VENTURE</td>\n",
       "      <td>11.86</td>\n",
       "      <td>0.16</td>\n",
       "      <td>4.0</td>\n",
       "      <td>659</td>\n",
       "      <td>Yes</td>\n",
       "    </tr>\n",
       "    <tr>\n",
       "      <th>29153</th>\n",
       "      <td>41.0</td>\n",
       "      <td>female</td>\n",
       "      <td>Master</td>\n",
       "      <td>322597.0</td>\n",
       "      <td>18</td>\n",
       "      <td>MORTGAGE</td>\n",
       "      <td>24000.0</td>\n",
       "      <td>PERSONAL</td>\n",
       "      <td>10.37</td>\n",
       "      <td>0.07</td>\n",
       "      <td>11.0</td>\n",
       "      <td>683</td>\n",
       "      <td>Yes</td>\n",
       "    </tr>\n",
       "    <tr>\n",
       "      <th>23838</th>\n",
       "      <td>27.0</td>\n",
       "      <td>male</td>\n",
       "      <td>Associate</td>\n",
       "      <td>94232.0</td>\n",
       "      <td>4</td>\n",
       "      <td>RENT</td>\n",
       "      <td>9600.0</td>\n",
       "      <td>EDUCATION</td>\n",
       "      <td>17.14</td>\n",
       "      <td>0.10</td>\n",
       "      <td>7.0</td>\n",
       "      <td>641</td>\n",
       "      <td>No</td>\n",
       "    </tr>\n",
       "    <tr>\n",
       "      <th>35686</th>\n",
       "      <td>27.0</td>\n",
       "      <td>male</td>\n",
       "      <td>Master</td>\n",
       "      <td>NaN</td>\n",
       "      <td>7</td>\n",
       "      <td>RENT</td>\n",
       "      <td>7059.0</td>\n",
       "      <td>HOMEIMPROVEMENT</td>\n",
       "      <td>12.97</td>\n",
       "      <td>0.08</td>\n",
       "      <td>3.0</td>\n",
       "      <td>706</td>\n",
       "      <td>Yes</td>\n",
       "    </tr>\n",
       "  </tbody>\n",
       "</table>\n",
       "</div>"
      ],
      "text/plain": [
       "       person_age person_gender person_education  person_income  \\\n",
       "25180        34.0        female         Bachelor        97265.0   \n",
       "12555        25.0          male      High School            NaN   \n",
       "29153        41.0        female           Master       322597.0   \n",
       "23838        27.0          male        Associate        94232.0   \n",
       "35686        27.0          male           Master            NaN   \n",
       "\n",
       "       person_emp_exp person_home_ownership  loan_amnt      loan_intent  \\\n",
       "25180              11              MORTGAGE    15000.0         PERSONAL   \n",
       "12555               3                  RENT    12000.0          VENTURE   \n",
       "29153              18              MORTGAGE    24000.0         PERSONAL   \n",
       "23838               4                  RENT     9600.0        EDUCATION   \n",
       "35686               7                  RENT     7059.0  HOMEIMPROVEMENT   \n",
       "\n",
       "       loan_int_rate  loan_percent_income  cb_person_cred_hist_length  \\\n",
       "25180          12.73                 0.15                         9.0   \n",
       "12555          11.86                 0.16                         4.0   \n",
       "29153          10.37                 0.07                        11.0   \n",
       "23838          17.14                 0.10                         7.0   \n",
       "35686          12.97                 0.08                         3.0   \n",
       "\n",
       "       credit_score previous_loan_defaults_on_file  \n",
       "25180           631                             No  \n",
       "12555           659                            Yes  \n",
       "29153           683                            Yes  \n",
       "23838           641                             No  \n",
       "35686           706                            Yes  "
      ]
     },
     "execution_count": 43,
     "metadata": {},
     "output_type": "execute_result"
    }
   ],
   "source": [
    "x_train.head()"
   ]
  },
  {
   "cell_type": "code",
   "execution_count": 44,
   "id": "0de71e8c",
   "metadata": {},
   "outputs": [
    {
     "data": {
      "text/plain": [
       "25180    0\n",
       "12555    0\n",
       "29153    0\n",
       "23838    0\n",
       "35686    0\n",
       "Name: loan_status, dtype: int64"
      ]
     },
     "execution_count": 44,
     "metadata": {},
     "output_type": "execute_result"
    }
   ],
   "source": [
    "y_train.head()"
   ]
  },
  {
   "cell_type": "code",
   "execution_count": 45,
   "id": "411e848c",
   "metadata": {},
   "outputs": [
    {
     "data": {
      "text/plain": [
       "Index(['person_age', 'person_gender', 'person_education', 'person_income',\n",
       "       'person_emp_exp', 'person_home_ownership', 'loan_amnt', 'loan_intent',\n",
       "       'loan_int_rate', 'loan_percent_income', 'cb_person_cred_hist_length',\n",
       "       'credit_score', 'previous_loan_defaults_on_file'],\n",
       "      dtype='object')"
      ]
     },
     "execution_count": 45,
     "metadata": {},
     "output_type": "execute_result"
    }
   ],
   "source": [
    "x_train.columns"
   ]
  },
  {
   "cell_type": "markdown",
   "id": "42bce06c",
   "metadata": {},
   "source": [
    "# Data Preprocessing"
   ]
  },
  {
   "cell_type": "markdown",
   "id": "41ef3dc0",
   "metadata": {},
   "source": [
    "## Check Duplicated Data"
   ]
  },
  {
   "cell_type": "code",
   "execution_count": 46,
   "id": "c5e9062a",
   "metadata": {},
   "outputs": [
    {
     "data": {
      "text/plain": [
       "0"
      ]
     },
     "execution_count": 46,
     "metadata": {},
     "output_type": "execute_result"
    }
   ],
   "source": [
    "# Show duplicated data\n",
    "df.duplicated().sum()"
   ]
  },
  {
   "cell_type": "markdown",
   "id": "7c8e658e",
   "metadata": {},
   "source": [
    "There are no duplicated records in this dataset."
   ]
  },
  {
   "cell_type": "markdown",
   "id": "e8a87876",
   "metadata": {},
   "source": [
    "## Handle Missing Values"
   ]
  },
  {
   "cell_type": "code",
   "execution_count": 47,
   "id": "62700cae",
   "metadata": {},
   "outputs": [
    {
     "data": {
      "text/plain": [
       "person_age                           0\n",
       "person_gender                        0\n",
       "person_education                     0\n",
       "person_income                     2250\n",
       "person_emp_exp                       0\n",
       "person_home_ownership                0\n",
       "loan_amnt                            0\n",
       "loan_intent                          0\n",
       "loan_int_rate                        0\n",
       "loan_percent_income                  0\n",
       "cb_person_cred_hist_length           0\n",
       "credit_score                         0\n",
       "previous_loan_defaults_on_file       0\n",
       "loan_status                          0\n",
       "dtype: int64"
      ]
     },
     "execution_count": 47,
     "metadata": {},
     "output_type": "execute_result"
    }
   ],
   "source": [
    "df.isnull().sum()"
   ]
  },
  {
   "cell_type": "markdown",
   "id": "2d03b7f3",
   "metadata": {},
   "source": [
    "There are 2,250 missing values in the 'person\\_income' column."
   ]
  },
  {
   "cell_type": "code",
   "execution_count": 48,
   "id": "8d630229",
   "metadata": {},
   "outputs": [
    {
     "data": {
      "image/png": "[encoded data removed]",
      "text/plain": [
       "<Figure size 640x480 with 1 Axes>"
      ]
     },
     "metadata": {},
     "output_type": "display_data"
    }
   ],
   "source": [
    "# Check outliers\n",
    "boxplot = x_train.boxplot('person_income')\n",
    "plt.show()"
   ]
  },
  {
   "cell_type": "markdown",
   "id": "64e7cf21",
   "metadata": {},
   "source": [
    "Missing values in the 'person\\_income' column were imputed using the median because this column contains many outliers. The median is considered more representative in this case, as it is more robust to outliers compared to the mean."
   ]
  },
  {
   "cell_type": "code",
   "execution_count": 49,
   "id": "9ba6385d",
   "metadata": {},
   "outputs": [
    {
     "data": {
      "text/plain": [
       "67104.0"
      ]
     },
     "execution_count": 49,
     "metadata": {},
     "output_type": "execute_result"
    }
   ],
   "source": [
    "# Calculate median for 'person_income' column\n",
    "x_train['person_income'].median()"
   ]
  },
  {
   "cell_type": "code",
   "execution_count": 50,
   "id": "ddbb83ed",
   "metadata": {},
   "outputs": [],
   "source": [
    "# Impute missing values with median for train and test data\n",
    "x_train['person_income'].fillna(67055.0, inplace=True)\n",
    "x_test['person_income'].fillna(67055.0, inplace=True)"
   ]
  },
  {
   "cell_type": "markdown",
   "id": "99697c4a",
   "metadata": {},
   "source": [
    "# Exploratory Data Analysis"
   ]
  },
  {
   "cell_type": "code",
   "execution_count": 51,
   "id": "285b1da8",
   "metadata": {},
   "outputs": [
    {
     "name": "stdout",
     "output_type": "stream",
     "text": [
      "Categorical: ['person_gender', 'person_education', 'person_home_ownership', 'loan_intent', 'previous_loan_defaults_on_file']\n",
      "Numeric: ['person_age', 'person_income', 'person_emp_exp', 'loan_amnt', 'loan_int_rate', 'loan_percent_income', 'cb_person_cred_hist_length', 'credit_score']\n"
     ]
    }
   ],
   "source": [
    "# Make an empty variable to store categorical and numerical columns\n",
    "categorical_columns = []\n",
    "numerical_columns = []\n",
    "\n",
    "# Looping to divide categorical and numerical, then store it to an empty variable that we've made\n",
    "for i in x_train.columns:\n",
    "    if 'int' in str(x_train[i].dtype) or 'float' in str(x_train[i].dtype):\n",
    "        numerical_columns.append(i)\n",
    "    else:\n",
    "        categorical_columns.append(i)\n",
    "\n",
    "# Display the categorical and numerical columns\n",
    "print(f'Categorical: {categorical_columns}')\n",
    "print(f'Numeric: {numerical_columns}')"
   ]
  },
  {
   "cell_type": "code",
   "execution_count": 52,
   "id": "f592eb18",
   "metadata": {},
   "outputs": [
    {
     "name": "stdout",
     "output_type": "stream",
     "text": [
      "person_gender\n",
      "male       19782\n",
      "female     16149\n",
      "Male          35\n",
      "fe male       34\n",
      "Name: count, dtype: int64 \n",
      "\n",
      "person_education\n",
      "Bachelor       10772\n",
      "Associate       9607\n",
      "High School     9508\n",
      "Master          5609\n",
      "Doctorate        504\n",
      "Name: count, dtype: int64 \n",
      "\n",
      "person_home_ownership\n",
      "RENT        18727\n",
      "MORTGAGE    14795\n",
      "OWN          2379\n",
      "OTHER          99\n",
      "Name: count, dtype: int64 \n",
      "\n",
      "loan_intent\n",
      "EDUCATION            7381\n",
      "MEDICAL              6818\n",
      "VENTURE              6227\n",
      "PERSONAL             6030\n",
      "DEBTCONSOLIDATION    5731\n",
      "HOMEIMPROVEMENT      3813\n",
      "Name: count, dtype: int64 \n",
      "\n",
      "previous_loan_defaults_on_file\n",
      "Yes    18253\n",
      "No     17747\n",
      "Name: count, dtype: int64 \n",
      "\n"
     ]
    }
   ],
   "source": [
    "# Count the categorical values in each columns\n",
    "for i in categorical_columns:\n",
    "    print(x_train[i].value_counts(),'\\n')"
   ]
  },
  {
   "cell_type": "markdown",
   "id": "d3dc1562",
   "metadata": {},
   "source": [
    "Anomalies were found in the 'person\\_gender' column, such as inconsistent entries like 'male' and 'Male', as well as 'female' and 'fe male'. These inconsistencies need to be cleaned to ensure consistent values in the column."
   ]
  },
  {
   "cell_type": "markdown",
   "id": "5041406b",
   "metadata": {},
   "source": [
    "## Handle the Anomalies"
   ]
  },
  {
   "cell_type": "code",
   "execution_count": 53,
   "id": "7ef94e55",
   "metadata": {},
   "outputs": [
    {
     "name": "stdout",
     "output_type": "stream",
     "text": [
      "person_gender\n",
      "male      19817\n",
      "female    16183\n",
      "Name: count, dtype: int64\n"
     ]
    }
   ],
   "source": [
    "# Standardize entries\n",
    "x_train['person_gender'] = x_train['person_gender'].str.lower().str.replace(\" \", \"\")\n",
    "x_train['person_gender'] = x_train['person_gender'].replace({\n",
    "    'male': 'male',\n",
    "    'female': 'female'\n",
    "})\n",
    "\n",
    "# Count occurrences of each gender\n",
    "gender_counts = x_train['person_gender'].value_counts()\n",
    "print(gender_counts)"
   ]
  },
  {
   "cell_type": "code",
   "execution_count": 54,
   "id": "0ad6102d",
   "metadata": {},
   "outputs": [
    {
     "name": "stdout",
     "output_type": "stream",
     "text": [
      "person_gender\n",
      "male      5027\n",
      "female    3973\n",
      "Name: count, dtype: int64\n"
     ]
    }
   ],
   "source": [
    "# Standardize entries\n",
    "x_test['person_gender'] = x_test['person_gender'].str.lower().str.replace(\" \", \"\")\n",
    "x_test['person_gender'] = x_test['person_gender'].replace({\n",
    "    'male': 'male',\n",
    "    'female': 'female'\n",
    "})\n",
    "\n",
    "# Count occurrences of each gender\n",
    "gender_counts = x_test['person_gender'].value_counts()\n",
    "print(gender_counts)"
   ]
  },
  {
   "cell_type": "markdown",
   "id": "b546b841",
   "metadata": {},
   "source": [
    "The anomalies in the 'person\\_gender' column were handled by converting all values to lowercase and consolidating the variations into two consistent categories: 'male' and 'female'."
   ]
  },
  {
   "cell_type": "markdown",
   "id": "48303a42",
   "metadata": {},
   "source": [
    "## Check Distribution"
   ]
  },
  {
   "cell_type": "code",
   "execution_count": 55,
   "id": "28c2282d",
   "metadata": {},
   "outputs": [
    {
     "data": {
      "image/png": "[encoded data removed]",
      "text/plain": [
       "<Figure size 1000x300 with 2 Axes>"
      ]
     },
     "metadata": {},
     "output_type": "display_data"
    },
    {
     "name": "stdout",
     "output_type": "stream",
     "text": [
      "Skewness: 2.580516594705922\n",
      "Kurtosis: 20.00793291292457\n"
     ]
    },
    {
     "data": {
      "image/png": "[encoded data removed]",
      "text/plain": [
       "<Figure size 1000x300 with 2 Axes>"
      ]
     },
     "metadata": {},
     "output_type": "display_data"
    },
    {
     "name": "stdout",
     "output_type": "stream",
     "text": [
      "Skewness: 27.420964402130902\n",
      "Kurtosis: 1652.2826175762511\n"
     ]
    },
    {
     "data": {
      "image/png": "[encoded data removed]",
      "text/plain": [
       "<Figure size 1000x300 with 2 Axes>"
      ]
     },
     "metadata": {},
     "output_type": "display_data"
    },
    {
     "name": "stdout",
     "output_type": "stream",
     "text": [
      "Skewness: 2.621040028725305\n",
      "Kurtosis: 20.532830470119627\n"
     ]
    },
    {
     "data": {
      "image/png": "[encoded data removed]",
      "text/plain": [
       "<Figure size 1000x300 with 2 Axes>"
      ]
     },
     "metadata": {},
     "output_type": "display_data"
    },
    {
     "name": "stdout",
     "output_type": "stream",
     "text": [
      "Skewness: 1.1740944055795806\n",
      "Kurtosis: 1.318757295748434\n"
     ]
    },
    {
     "data": {
      "image/png": "[encoded data removed]",
      "text/plain": [
       "<Figure size 1000x300 with 2 Axes>"
      ]
     },
     "metadata": {},
     "output_type": "display_data"
    },
    {
     "name": "stdout",
     "output_type": "stream",
     "text": [
      "Skewness: 0.21449595878360378\n",
      "Kurtosis: -0.42754481571503167\n"
     ]
    },
    {
     "data": {
      "image/png": "[encoded data removed]",
      "text/plain": [
       "<Figure size 1000x300 with 2 Axes>"
      ]
     },
     "metadata": {},
     "output_type": "display_data"
    },
    {
     "name": "stdout",
     "output_type": "stream",
     "text": [
      "Skewness: 1.0226315129573393\n",
      "Kurtosis: 1.031793683220228\n"
     ]
    },
    {
     "data": {
      "image/png": "[encoded data removed]",
      "text/plain": [
       "<Figure size 1000x300 with 2 Axes>"
      ]
     },
     "metadata": {},
     "output_type": "display_data"
    },
    {
     "name": "stdout",
     "output_type": "stream",
     "text": [
      "Skewness: 1.6195093652685095\n",
      "Kurtosis: 3.640221504844234\n"
     ]
    },
    {
     "data": {
      "image/png": "[encoded data removed]",
      "text/plain": [
       "<Figure size 1000x300 with 2 Axes>"
      ]
     },
     "metadata": {},
     "output_type": "display_data"
    },
    {
     "name": "stdout",
     "output_type": "stream",
     "text": [
      "Skewness: -0.6060110939638604\n",
      "Kurtosis: 0.1868455723001441\n"
     ]
    }
   ],
   "source": [
    "# Make a plot to check distribution\n",
    "def check_distribution_outliers(df, columns):\n",
    "    for i in columns:\n",
    "        plt.figure(figsize=(10, 3))\n",
    "\n",
    "        # Histogram\n",
    "        plt.subplot(1, 2, 1)\n",
    "        sns.histplot(df[i], bins=30)\n",
    "        plt.title('Histogram')\n",
    "\n",
    "        # Boxplot\n",
    "        plt.subplot(1, 2, 2)\n",
    "        sns.boxplot(y=df[i])\n",
    "        plt.title('Boxplot')\n",
    "\n",
    "        plt.show()\n",
    "\n",
    "        print('Skewness:', df[i].skew())\n",
    "        print('Kurtosis:', df[i].kurt())\n",
    "\n",
    "check_distribution_outliers(x_train[numerical_columns], numerical_columns)"
   ]
  },
  {
   "cell_type": "markdown",
   "id": "b1a994ea",
   "metadata": {},
   "source": [
    "Based on the initial exploration, all numerical columns in the dataset are not normally distributed and contain a considerable number of outliers. However, these outliers are still within a reasonable range in the context of the data, so they were not removed and are considered unlikely to interfere with the modeling process."
   ]
  },
  {
   "cell_type": "code",
   "execution_count": 56,
   "id": "374a79b0",
   "metadata": {},
   "outputs": [
    {
     "data": {
      "image/png": "[encoded data removed]",
      "text/plain": [
       "<Figure size 640x480 with 1 Axes>"
      ]
     },
     "metadata": {},
     "output_type": "display_data"
    }
   ],
   "source": [
    "# Pie chart for distribution of loan status\n",
    "loan_status_counts = y_train.value_counts()\n",
    "\n",
    "plt.pie(\n",
    "    loan_status_counts,\n",
    "    labels=loan_status_counts.index,\n",
    "    autopct='%1.1f%%',\n",
    "    startangle=140,\n",
    "    colors=plt.cm.Paired.colors\n",
    ")\n",
    "plt.title('Distribution of Loan Status')\n",
    "plt.axis('equal') \n",
    "plt.show()"
   ]
  },
  {
   "cell_type": "markdown",
   "id": "66ca868b",
   "metadata": {},
   "source": [
    "The distribution of values in the target variable shows that only about 22% of the data falls into the 'approved' category, while the remaining 78% falls into the 'rejected' category. This indicates a class imbalance, with a ratio of approximately 1:4 between 'approved' and 'rejected'."
   ]
  },
  {
   "cell_type": "markdown",
   "id": "3c6e5c3b",
   "metadata": {},
   "source": [
    "# Feature Engineering"
   ]
  },
  {
   "cell_type": "markdown",
   "id": "81e56f95",
   "metadata": {},
   "source": [
    "## Encoding"
   ]
  },
  {
   "cell_type": "code",
   "execution_count": 57,
   "id": "a4dc5ae4",
   "metadata": {},
   "outputs": [],
   "source": [
    "# Binary encoding categorical to integer\n",
    "gender_encode = {'person_gender': {'male':1, 'female':0}}\n",
    "x_train=x_train.replace(gender_encode)\n",
    "x_test=x_test.replace(gender_encode)\n",
    "\n",
    "previous_loan_encode = {'previous_loan_defaults_on_file': {'Yes':1, 'No':0}}\n",
    "x_train=x_train.replace(previous_loan_encode)\n",
    "x_test=x_test.replace(previous_loan_encode)"
   ]
  },
  {
   "cell_type": "markdown",
   "id": "56e44417",
   "metadata": {},
   "source": [
    "In the encoding stage, binary encoding was used for the 'gender\\_encode' and 'previous\\_loan\\_defaults\\_on\\_file' columns because both columns contain only two categories. As a result, the encoding produced binary values of 0 and 1, representing each respective category."
   ]
  },
  {
   "cell_type": "code",
   "execution_count": 58,
   "id": "a13f4d20",
   "metadata": {},
   "outputs": [],
   "source": [
    "filename = 'gender_encode.pkl'\n",
    "pkl.dump(gender_encode, open(filename, 'wb'))"
   ]
  },
  {
   "cell_type": "code",
   "execution_count": 59,
   "id": "7899a43e",
   "metadata": {},
   "outputs": [],
   "source": [
    "filename = 'previous_loan_defaults_on_file_encode.pkl'\n",
    "pkl.dump(previous_loan_encode, open(filename, 'wb'))"
   ]
  },
  {
   "cell_type": "markdown",
   "id": "15383eda",
   "metadata": {},
   "source": [
    "The results of the binary encoding were saved into a pickle file to be reused during the implementation in the Streamlit application. This way, the encoding process does not need to be repeated—simply loading the pre-prepared pickle file will suffice."
   ]
  },
  {
   "cell_type": "code",
   "execution_count": 60,
   "id": "fb06644f",
   "metadata": {},
   "outputs": [],
   "source": [
    "# Label encoding categorical to integer\n",
    "person_education_encode = {'person_education' :\n",
    "    {'High School': 0,\n",
    "    'Associate': 1,\n",
    "    'Bachelor': 2,\n",
    "    'Master': 3,\n",
    "    'Doctorate': 4}\n",
    "}\n",
    "\n",
    "x_train=x_train.replace(person_education_encode)\n",
    "x_test=x_test.replace(person_education_encode)"
   ]
  },
  {
   "cell_type": "markdown",
   "id": "456632fa",
   "metadata": {},
   "source": [
    "In the encoding stage, I used manual ordinal encoding for the 'person\\_education\\_encode' column. Since this column has an inherent order, ordinal encoding was considered the most appropriate method. I chose to perform the encoding manually rather than using a library because manual encoding allows me to define the order of values according to the data context. This approach provides greater flexibility in handling ordinal categorical data."
   ]
  },
  {
   "cell_type": "code",
   "execution_count": 61,
   "id": "4fb61f1c",
   "metadata": {},
   "outputs": [],
   "source": [
    "filename = 'person_education_encode.pkl'\n",
    "pkl.dump(person_education_encode, open(filename, 'wb'))"
   ]
  },
  {
   "cell_type": "code",
   "execution_count": 62,
   "id": "4ee3d861",
   "metadata": {},
   "outputs": [],
   "source": [
    "home_enc_train = x_train[['person_home_ownership']]\n",
    "loan_intent_enc_train = x_train[['loan_intent']]\n",
    "\n",
    "home_enc_test = x_test[['person_home_ownership']]\n",
    "loan_intent_enc_test = x_test[['loan_intent']]\n",
    "\n",
    "train_encoded_home = OneHotEncoder()\n",
    "train_encoded_loan_intent = OneHotEncoder()\n",
    "\n",
    "home_enc_train = pd.DataFrame(train_encoded_home.fit_transform(home_enc_train).toarray(),\n",
    "                              columns=train_encoded_home.get_feature_names_out())\n",
    "loan_intent_enc_train = pd.DataFrame(train_encoded_loan_intent.fit_transform(loan_intent_enc_train).toarray(),\n",
    "                                     columns=train_encoded_loan_intent.get_feature_names_out())\n",
    "\n",
    "home_enc_test = pd.DataFrame(train_encoded_home.transform(home_enc_test).toarray(),\n",
    "                             columns=train_encoded_home.get_feature_names_out())\n",
    "loan_intent_enc_test = pd.DataFrame(train_encoded_loan_intent.transform(loan_intent_enc_test).toarray(),\n",
    "                                    columns=train_encoded_loan_intent.get_feature_names_out())\n",
    "\n",
    "x_train = x_train.reset_index(drop=True)\n",
    "x_test = x_test.reset_index(drop=True)\n",
    "\n",
    "x_train = x_train.drop(columns=['person_home_ownership', 'loan_intent'],axis=1)\n",
    "x_test = x_test.drop(columns=['person_home_ownership', 'loan_intent'],axis=1)\n",
    "\n",
    "x_train = pd.concat([x_train, home_enc_train, loan_intent_enc_train], axis=1)\n",
    "x_test = pd.concat([x_test, home_enc_test, loan_intent_enc_test], axis=1)"
   ]
  },
  {
   "cell_type": "markdown",
   "id": "ec70861c",
   "metadata": {},
   "source": [
    "For the 'person\\_home\\_ownership' and 'loan\\_intent' columns, one-hot encoding was used because both columns have more than two categories and are non-ordinal. With one-hot encoding, each category is transformed into a separate binary column, allowing for clearer representation without introducing irrelevant ordinal relationships."
   ]
  },
  {
   "cell_type": "code",
   "execution_count": 63,
   "id": "37b62c35",
   "metadata": {},
   "outputs": [
    {
     "data": {
      "text/plain": [
       "array(['person_home_ownership_MORTGAGE', 'person_home_ownership_OTHER',\n",
       "       'person_home_ownership_OWN', 'person_home_ownership_RENT'],\n",
       "      dtype=object)"
      ]
     },
     "execution_count": 63,
     "metadata": {},
     "output_type": "execute_result"
    }
   ],
   "source": [
    "train_encoded_home.get_feature_names_out()"
   ]
  },
  {
   "cell_type": "markdown",
   "id": "dc586149",
   "metadata": {},
   "source": [
    "The `get_features_name_out` function is used to obtain the new column names generated after applying one-hot encoding. These new column names are very useful when saving the model and encoder into pickle files, so that when loaded later, the model can directly recognize and use consistent column names."
   ]
  },
  {
   "cell_type": "code",
   "execution_count": 64,
   "id": "c5007420",
   "metadata": {},
   "outputs": [],
   "source": [
    "filename_subs = 'person_home_encode.pkl'\n",
    "pkl.dump(train_encoded_home, open(filename_subs, 'wb'))"
   ]
  },
  {
   "cell_type": "code",
   "execution_count": 65,
   "id": "7c686b99",
   "metadata": {},
   "outputs": [
    {
     "data": {
      "text/plain": [
       "array(['loan_intent_DEBTCONSOLIDATION', 'loan_intent_EDUCATION',\n",
       "       'loan_intent_HOMEIMPROVEMENT', 'loan_intent_MEDICAL',\n",
       "       'loan_intent_PERSONAL', 'loan_intent_VENTURE'], dtype=object)"
      ]
     },
     "execution_count": 65,
     "metadata": {},
     "output_type": "execute_result"
    }
   ],
   "source": [
    "train_encoded_loan_intent.get_feature_names_out()"
   ]
  },
  {
   "cell_type": "code",
   "execution_count": 66,
   "id": "4a5d28fd",
   "metadata": {},
   "outputs": [],
   "source": [
    "filename_subs = 'loan_intent_encode.pkl'\n",
    "pkl.dump(train_encoded_loan_intent, open(filename_subs, 'wb'))"
   ]
  },
  {
   "cell_type": "code",
   "execution_count": 67,
   "id": "e5e73fe1",
   "metadata": {},
   "outputs": [
    {
     "data": {
      "text/html": [
       "<div>\n",
       "<style scoped>\n",
       "    .dataframe tbody tr th:only-of-type {\n",
       "        vertical-align: middle;\n",
       "    }\n",
       "\n",
       "    .dataframe tbody tr th {\n",
       "        vertical-align: top;\n",
       "    }\n",
       "\n",
       "    .dataframe thead th {\n",
       "        text-align: right;\n",
       "    }\n",
       "</style>\n",
       "<table border=\"1\" class=\"dataframe\">\n",
       "  <thead>\n",
       "    <tr style=\"text-align: right;\">\n",
       "      <th></th>\n",
       "      <th>person_age</th>\n",
       "      <th>person_gender</th>\n",
       "      <th>person_education</th>\n",
       "      <th>person_income</th>\n",
       "      <th>person_emp_exp</th>\n",
       "      <th>loan_amnt</th>\n",
       "      <th>loan_int_rate</th>\n",
       "      <th>loan_percent_income</th>\n",
       "      <th>cb_person_cred_hist_length</th>\n",
       "      <th>credit_score</th>\n",
       "      <th>...</th>\n",
       "      <th>person_home_ownership_MORTGAGE</th>\n",
       "      <th>person_home_ownership_OTHER</th>\n",
       "      <th>person_home_ownership_OWN</th>\n",
       "      <th>person_home_ownership_RENT</th>\n",
       "      <th>loan_intent_DEBTCONSOLIDATION</th>\n",
       "      <th>loan_intent_EDUCATION</th>\n",
       "      <th>loan_intent_HOMEIMPROVEMENT</th>\n",
       "      <th>loan_intent_MEDICAL</th>\n",
       "      <th>loan_intent_PERSONAL</th>\n",
       "      <th>loan_intent_VENTURE</th>\n",
       "    </tr>\n",
       "  </thead>\n",
       "  <tbody>\n",
       "    <tr>\n",
       "      <th>0</th>\n",
       "      <td>34.0</td>\n",
       "      <td>0</td>\n",
       "      <td>2</td>\n",
       "      <td>97265.0</td>\n",
       "      <td>11</td>\n",
       "      <td>15000.0</td>\n",
       "      <td>12.73</td>\n",
       "      <td>0.15</td>\n",
       "      <td>9.0</td>\n",
       "      <td>631</td>\n",
       "      <td>...</td>\n",
       "      <td>1.0</td>\n",
       "      <td>0.0</td>\n",
       "      <td>0.0</td>\n",
       "      <td>0.0</td>\n",
       "      <td>0.0</td>\n",
       "      <td>0.0</td>\n",
       "      <td>0.0</td>\n",
       "      <td>0.0</td>\n",
       "      <td>1.0</td>\n",
       "      <td>0.0</td>\n",
       "    </tr>\n",
       "    <tr>\n",
       "      <th>1</th>\n",
       "      <td>25.0</td>\n",
       "      <td>1</td>\n",
       "      <td>0</td>\n",
       "      <td>67055.0</td>\n",
       "      <td>3</td>\n",
       "      <td>12000.0</td>\n",
       "      <td>11.86</td>\n",
       "      <td>0.16</td>\n",
       "      <td>4.0</td>\n",
       "      <td>659</td>\n",
       "      <td>...</td>\n",
       "      <td>0.0</td>\n",
       "      <td>0.0</td>\n",
       "      <td>0.0</td>\n",
       "      <td>1.0</td>\n",
       "      <td>0.0</td>\n",
       "      <td>0.0</td>\n",
       "      <td>0.0</td>\n",
       "      <td>0.0</td>\n",
       "      <td>0.0</td>\n",
       "      <td>1.0</td>\n",
       "    </tr>\n",
       "    <tr>\n",
       "      <th>2</th>\n",
       "      <td>41.0</td>\n",
       "      <td>0</td>\n",
       "      <td>3</td>\n",
       "      <td>322597.0</td>\n",
       "      <td>18</td>\n",
       "      <td>24000.0</td>\n",
       "      <td>10.37</td>\n",
       "      <td>0.07</td>\n",
       "      <td>11.0</td>\n",
       "      <td>683</td>\n",
       "      <td>...</td>\n",
       "      <td>1.0</td>\n",
       "      <td>0.0</td>\n",
       "      <td>0.0</td>\n",
       "      <td>0.0</td>\n",
       "      <td>0.0</td>\n",
       "      <td>0.0</td>\n",
       "      <td>0.0</td>\n",
       "      <td>0.0</td>\n",
       "      <td>1.0</td>\n",
       "      <td>0.0</td>\n",
       "    </tr>\n",
       "    <tr>\n",
       "      <th>3</th>\n",
       "      <td>27.0</td>\n",
       "      <td>1</td>\n",
       "      <td>1</td>\n",
       "      <td>94232.0</td>\n",
       "      <td>4</td>\n",
       "      <td>9600.0</td>\n",
       "      <td>17.14</td>\n",
       "      <td>0.10</td>\n",
       "      <td>7.0</td>\n",
       "      <td>641</td>\n",
       "      <td>...</td>\n",
       "      <td>0.0</td>\n",
       "      <td>0.0</td>\n",
       "      <td>0.0</td>\n",
       "      <td>1.0</td>\n",
       "      <td>0.0</td>\n",
       "      <td>1.0</td>\n",
       "      <td>0.0</td>\n",
       "      <td>0.0</td>\n",
       "      <td>0.0</td>\n",
       "      <td>0.0</td>\n",
       "    </tr>\n",
       "    <tr>\n",
       "      <th>4</th>\n",
       "      <td>27.0</td>\n",
       "      <td>1</td>\n",
       "      <td>3</td>\n",
       "      <td>67055.0</td>\n",
       "      <td>7</td>\n",
       "      <td>7059.0</td>\n",
       "      <td>12.97</td>\n",
       "      <td>0.08</td>\n",
       "      <td>3.0</td>\n",
       "      <td>706</td>\n",
       "      <td>...</td>\n",
       "      <td>0.0</td>\n",
       "      <td>0.0</td>\n",
       "      <td>0.0</td>\n",
       "      <td>1.0</td>\n",
       "      <td>0.0</td>\n",
       "      <td>0.0</td>\n",
       "      <td>1.0</td>\n",
       "      <td>0.0</td>\n",
       "      <td>0.0</td>\n",
       "      <td>0.0</td>\n",
       "    </tr>\n",
       "  </tbody>\n",
       "</table>\n",
       "<p>5 rows × 21 columns</p>\n",
       "</div>"
      ],
      "text/plain": [
       "   person_age  person_gender  person_education  person_income  person_emp_exp  \\\n",
       "0        34.0              0                 2        97265.0              11   \n",
       "1        25.0              1                 0        67055.0               3   \n",
       "2        41.0              0                 3       322597.0              18   \n",
       "3        27.0              1                 1        94232.0               4   \n",
       "4        27.0              1                 3        67055.0               7   \n",
       "\n",
       "   loan_amnt  loan_int_rate  loan_percent_income  cb_person_cred_hist_length  \\\n",
       "0    15000.0          12.73                 0.15                         9.0   \n",
       "1    12000.0          11.86                 0.16                         4.0   \n",
       "2    24000.0          10.37                 0.07                        11.0   \n",
       "3     9600.0          17.14                 0.10                         7.0   \n",
       "4     7059.0          12.97                 0.08                         3.0   \n",
       "\n",
       "   credit_score  ...  person_home_ownership_MORTGAGE  \\\n",
       "0           631  ...                             1.0   \n",
       "1           659  ...                             0.0   \n",
       "2           683  ...                             1.0   \n",
       "3           641  ...                             0.0   \n",
       "4           706  ...                             0.0   \n",
       "\n",
       "   person_home_ownership_OTHER  person_home_ownership_OWN  \\\n",
       "0                          0.0                        0.0   \n",
       "1                          0.0                        0.0   \n",
       "2                          0.0                        0.0   \n",
       "3                          0.0                        0.0   \n",
       "4                          0.0                        0.0   \n",
       "\n",
       "   person_home_ownership_RENT  loan_intent_DEBTCONSOLIDATION  \\\n",
       "0                         0.0                            0.0   \n",
       "1                         1.0                            0.0   \n",
       "2                         0.0                            0.0   \n",
       "3                         1.0                            0.0   \n",
       "4                         1.0                            0.0   \n",
       "\n",
       "   loan_intent_EDUCATION  loan_intent_HOMEIMPROVEMENT  loan_intent_MEDICAL  \\\n",
       "0                    0.0                          0.0                  0.0   \n",
       "1                    0.0                          0.0                  0.0   \n",
       "2                    0.0                          0.0                  0.0   \n",
       "3                    1.0                          0.0                  0.0   \n",
       "4                    0.0                          1.0                  0.0   \n",
       "\n",
       "   loan_intent_PERSONAL  loan_intent_VENTURE  \n",
       "0                   1.0                  0.0  \n",
       "1                   0.0                  1.0  \n",
       "2                   1.0                  0.0  \n",
       "3                   0.0                  0.0  \n",
       "4                   0.0                  0.0  \n",
       "\n",
       "[5 rows x 21 columns]"
      ]
     },
     "execution_count": 67,
     "metadata": {},
     "output_type": "execute_result"
    }
   ],
   "source": [
    "x_train.head()"
   ]
  },
  {
   "cell_type": "markdown",
   "id": "a1bb159f",
   "metadata": {},
   "source": [
    "## Scaling"
   ]
  },
  {
   "cell_type": "code",
   "execution_count": 68,
   "id": "3f3adb65",
   "metadata": {},
   "outputs": [],
   "source": [
    "# Initialize Scalers\n",
    "rob_scaler = RobustScaler()\n",
    "\n",
    "# Scale the x train and x test\n",
    "x_train = rob_scaler.fit_transform(x_train)\n",
    "x_test = rob_scaler.transform(x_test)"
   ]
  },
  {
   "cell_type": "markdown",
   "id": "2fbe6ed1",
   "metadata": {},
   "source": [
    "Since the data distribution is not normal and contains many outliers, I used Robust Scaler for preprocessing. This method is more resistant to outliers compared to other normalization techniques, making it better suited to ensure the data remains well-standardized without being affected by extreme values."
   ]
  },
  {
   "cell_type": "code",
   "execution_count": 69,
   "id": "1c90f134",
   "metadata": {},
   "outputs": [],
   "source": [
    "filename_subs = 'robust_scaler.pkl'\n",
    "pkl.dump(rob_scaler, open(filename_subs, 'wb'))"
   ]
  },
  {
   "cell_type": "markdown",
   "id": "425d68ec",
   "metadata": {},
   "source": [
    "# Modelling"
   ]
  },
  {
   "cell_type": "markdown",
   "id": "ac3febf4",
   "metadata": {},
   "source": [
    "## Random Forest Model"
   ]
  },
  {
   "cell_type": "code",
   "execution_count": 70,
   "id": "4a584376",
   "metadata": {},
   "outputs": [
    {
     "data": {
      "text/html": [
       "<style>#sk-container-id-1 {color: black;}#sk-container-id-1 pre{padding: 0;}#sk-container-id-1 div.sk-toggleable {background-color: white;}#sk-container-id-1 label.sk-toggleable__label {cursor: pointer;display: block;width: 100%;margin-bottom: 0;padding: 0.3em;box-sizing: border-box;text-align: center;}#sk-container-id-1 label.sk-toggleable__label-arrow:before {content: \"▸\";float: left;margin-right: 0.25em;color: #696969;}#sk-container-id-1 label.sk-toggleable__label-arrow:hover:before {color: black;}#sk-container-id-1 div.sk-estimator:hover label.sk-toggleable__label-arrow:before {color: black;}#sk-container-id-1 div.sk-toggleable__content {max-height: 0;max-width: 0;overflow: hidden;text-align: left;background-color: #f0f8ff;}#sk-container-id-1 div.sk-toggleable__content pre {margin: 0.2em;color: black;border-radius: 0.25em;background-color: #f0f8ff;}#sk-container-id-1 input.sk-toggleable__control:checked~div.sk-toggleable__content {max-height: 200px;max-width: 100%;overflow: auto;}#sk-container-id-1 input.sk-toggleable__control:checked~label.sk-toggleable__label-arrow:before {content: \"▾\";}#sk-container-id-1 div.sk-estimator input.sk-toggleable__control:checked~label.sk-toggleable__label {background-color: #d4ebff;}#sk-container-id-1 div.sk-label input.sk-toggleable__control:checked~label.sk-toggleable__label {background-color: #d4ebff;}#sk-container-id-1 input.sk-hidden--visually {border: 0;clip: rect(1px 1px 1px 1px);clip: rect(1px, 1px, 1px, 1px);height: 1px;margin: -1px;overflow: hidden;padding: 0;position: absolute;width: 1px;}#sk-container-id-1 div.sk-estimator {font-family: monospace;background-color: #f0f8ff;border: 1px dotted black;border-radius: 0.25em;box-sizing: border-box;margin-bottom: 0.5em;}#sk-container-id-1 div.sk-estimator:hover {background-color: #d4ebff;}#sk-container-id-1 div.sk-parallel-item::after {content: \"\";width: 100%;border-bottom: 1px solid gray;flex-grow: 1;}#sk-container-id-1 div.sk-label:hover label.sk-toggleable__label {background-color: #d4ebff;}#sk-container-id-1 div.sk-serial::before {content: \"\";position: absolute;border-left: 1px solid gray;box-sizing: border-box;top: 0;bottom: 0;left: 50%;z-index: 0;}#sk-container-id-1 div.sk-serial {display: flex;flex-direction: column;align-items: center;background-color: white;padding-right: 0.2em;padding-left: 0.2em;position: relative;}#sk-container-id-1 div.sk-item {position: relative;z-index: 1;}#sk-container-id-1 div.sk-parallel {display: flex;align-items: stretch;justify-content: center;background-color: white;position: relative;}#sk-container-id-1 div.sk-item::before, #sk-container-id-1 div.sk-parallel-item::before {content: \"\";position: absolute;border-left: 1px solid gray;box-sizing: border-box;top: 0;bottom: 0;left: 50%;z-index: -1;}#sk-container-id-1 div.sk-parallel-item {display: flex;flex-direction: column;z-index: 1;position: relative;background-color: white;}#sk-container-id-1 div.sk-parallel-item:first-child::after {align-self: flex-end;width: 50%;}#sk-container-id-1 div.sk-parallel-item:last-child::after {align-self: flex-start;width: 50%;}#sk-container-id-1 div.sk-parallel-item:only-child::after {width: 0;}#sk-container-id-1 div.sk-dashed-wrapped {border: 1px dashed gray;margin: 0 0.4em 0.5em 0.4em;box-sizing: border-box;padding-bottom: 0.4em;background-color: white;}#sk-container-id-1 div.sk-label label {font-family: monospace;font-weight: bold;display: inline-block;line-height: 1.2em;}#sk-container-id-1 div.sk-label-container {text-align: center;}#sk-container-id-1 div.sk-container {/* jupyter's `normalize.less` sets `[hidden] { display: none; }` but bootstrap.min.css set `[hidden] { display: none !important; }` so we also need the `!important` here to be able to override the default hidden behavior on the sphinx rendered scikit-learn.org. See: https://github.com/scikit-learn/scikit-learn/issues/21755 */display: inline-block !important;position: relative;}#sk-container-id-1 div.sk-text-repr-fallback {display: none;}</style><div id=\"sk-container-id-1\" class=\"sk-top-container\"><div class=\"sk-text-repr-fallback\"><pre>RandomForestClassifier(class_weight=&#x27;balanced&#x27;, criterion=&#x27;entropy&#x27;,\n",
       "                       max_depth=4)</pre><b>In a Jupyter environment, please rerun this cell to show the HTML representation or trust the notebook. <br />On GitHub, the HTML representation is unable to render, please try loading this page with nbviewer.org.</b></div><div class=\"sk-container\" hidden><div class=\"sk-item\"><div class=\"sk-estimator sk-toggleable\"><input class=\"sk-toggleable__control sk-hidden--visually\" id=\"sk-estimator-id-1\" type=\"checkbox\" checked><label for=\"sk-estimator-id-1\" class=\"sk-toggleable__label sk-toggleable__label-arrow\">RandomForestClassifier</label><div class=\"sk-toggleable__content\"><pre>RandomForestClassifier(class_weight=&#x27;balanced&#x27;, criterion=&#x27;entropy&#x27;,\n",
       "                       max_depth=4)</pre></div></div></div></div></div>"
      ],
      "text/plain": [
       "RandomForestClassifier(class_weight='balanced', criterion='entropy',\n",
       "                       max_depth=4)"
      ]
     },
     "execution_count": 70,
     "metadata": {},
     "output_type": "execute_result"
    }
   ],
   "source": [
    "RF_class = RandomForestClassifier(criterion= 'entropy',max_depth=4, class_weight='balanced')\n",
    "RF_class.fit(x_train, y_train)"
   ]
  },
  {
   "cell_type": "code",
   "execution_count": 71,
   "id": "b17eaf73",
   "metadata": {},
   "outputs": [],
   "source": [
    "# Make predictions\n",
    "y_pred_rf = RF_class.predict(x_test)\n",
    "y_pred_prob_rf = RF_class.predict_proba(x_test)[:, 1]"
   ]
  },
  {
   "cell_type": "markdown",
   "id": "082d70ac",
   "metadata": {},
   "source": [
    "### Evaluation"
   ]
  },
  {
   "cell_type": "code",
   "execution_count": 72,
   "id": "40406750",
   "metadata": {},
   "outputs": [
    {
     "name": "stdout",
     "output_type": "stream",
     "text": [
      "Classification Report Random Forest:\n",
      "               precision    recall  f1-score   support\n",
      "\n",
      "           0       0.97      0.83      0.89      6990\n",
      "           1       0.60      0.90      0.72      2010\n",
      "\n",
      "    accuracy                           0.84      9000\n",
      "   macro avg       0.78      0.86      0.81      9000\n",
      "weighted avg       0.89      0.84      0.85      9000\n",
      "\n"
     ]
    }
   ],
   "source": [
    "# Classification Report\n",
    "print(\"Classification Report Random Forest:\\n\", classification_report(y_test, y_pred_rf))"
   ]
  },
  {
   "cell_type": "markdown",
   "id": "34b456f3",
   "metadata": {},
   "source": [
    "**Detailed Classification Report**\n",
    "\n",
    "**Accuracy:** 84%, indicating that the model correctly classified 84% of the 9,000 samples.\n",
    "\n",
    "**F1-Score Macro:** 81%, representing the average balance between precision and recall across all classes, without considering class proportions.\n",
    "\n",
    "**F1-Score Weighted Average:** 85%, reflecting the average F1-Score weighted by the number of samples in each class.\n",
    "\n",
    "---\n",
    "\n",
    "**Rejected Class:**\n",
    "\n",
    "* Precision: 0.97 → 97% of the predictions for class 0 are correct.\n",
    "* Recall: 0.83 → The model successfully identified 83% of all actual class 0 cases.\n",
    "* F1-Score: 0.89 → A high balance between precision and recall.\n",
    "\n",
    "The model performs very well in recognizing the 'Rejected' class with very high precision. However, 17% of the 'Rejected' cases are still missed.\n",
    "\n",
    "---\n",
    "\n",
    "**Approved Class:**\n",
    "\n",
    "* Precision: 0.60 → Only 60% of the predictions for class 1 are correct.\n",
    "* Recall: 0.90 → 90% of the actual class 1 cases are correctly detected.\n",
    "* F1-Score: 0.72 → Reasonably good, but there is an imbalance between precision and recall.\n",
    "\n",
    "The model shows a high recall for the 'Approved' class but still makes many errors in prediction.\n",
    "\n",
    "---\n",
    "\n",
    "**Analysis**\n",
    "\n",
    "Overall, the **Random Forest** model delivers fairly good results with an accuracy of 84%, indicating that the model has learned the data reasonably well."
   ]
  },
  {
   "cell_type": "markdown",
   "id": "ed7338d1",
   "metadata": {},
   "source": [
    "## XGBoost Model"
   ]
  },
  {
   "cell_type": "code",
   "execution_count": 73,
   "id": "6005a86b",
   "metadata": {},
   "outputs": [
    {
     "data": {
      "text/html": [
       "<style>#sk-container-id-2 {color: black;}#sk-container-id-2 pre{padding: 0;}#sk-container-id-2 div.sk-toggleable {background-color: white;}#sk-container-id-2 label.sk-toggleable__label {cursor: pointer;display: block;width: 100%;margin-bottom: 0;padding: 0.3em;box-sizing: border-box;text-align: center;}#sk-container-id-2 label.sk-toggleable__label-arrow:before {content: \"▸\";float: left;margin-right: 0.25em;color: #696969;}#sk-container-id-2 label.sk-toggleable__label-arrow:hover:before {color: black;}#sk-container-id-2 div.sk-estimator:hover label.sk-toggleable__label-arrow:before {color: black;}#sk-container-id-2 div.sk-toggleable__content {max-height: 0;max-width: 0;overflow: hidden;text-align: left;background-color: #f0f8ff;}#sk-container-id-2 div.sk-toggleable__content pre {margin: 0.2em;color: black;border-radius: 0.25em;background-color: #f0f8ff;}#sk-container-id-2 input.sk-toggleable__control:checked~div.sk-toggleable__content {max-height: 200px;max-width: 100%;overflow: auto;}#sk-container-id-2 input.sk-toggleable__control:checked~label.sk-toggleable__label-arrow:before {content: \"▾\";}#sk-container-id-2 div.sk-estimator input.sk-toggleable__control:checked~label.sk-toggleable__label {background-color: #d4ebff;}#sk-container-id-2 div.sk-label input.sk-toggleable__control:checked~label.sk-toggleable__label {background-color: #d4ebff;}#sk-container-id-2 input.sk-hidden--visually {border: 0;clip: rect(1px 1px 1px 1px);clip: rect(1px, 1px, 1px, 1px);height: 1px;margin: -1px;overflow: hidden;padding: 0;position: absolute;width: 1px;}#sk-container-id-2 div.sk-estimator {font-family: monospace;background-color: #f0f8ff;border: 1px dotted black;border-radius: 0.25em;box-sizing: border-box;margin-bottom: 0.5em;}#sk-container-id-2 div.sk-estimator:hover {background-color: #d4ebff;}#sk-container-id-2 div.sk-parallel-item::after {content: \"\";width: 100%;border-bottom: 1px solid gray;flex-grow: 1;}#sk-container-id-2 div.sk-label:hover label.sk-toggleable__label {background-color: #d4ebff;}#sk-container-id-2 div.sk-serial::before {content: \"\";position: absolute;border-left: 1px solid gray;box-sizing: border-box;top: 0;bottom: 0;left: 50%;z-index: 0;}#sk-container-id-2 div.sk-serial {display: flex;flex-direction: column;align-items: center;background-color: white;padding-right: 0.2em;padding-left: 0.2em;position: relative;}#sk-container-id-2 div.sk-item {position: relative;z-index: 1;}#sk-container-id-2 div.sk-parallel {display: flex;align-items: stretch;justify-content: center;background-color: white;position: relative;}#sk-container-id-2 div.sk-item::before, #sk-container-id-2 div.sk-parallel-item::before {content: \"\";position: absolute;border-left: 1px solid gray;box-sizing: border-box;top: 0;bottom: 0;left: 50%;z-index: -1;}#sk-container-id-2 div.sk-parallel-item {display: flex;flex-direction: column;z-index: 1;position: relative;background-color: white;}#sk-container-id-2 div.sk-parallel-item:first-child::after {align-self: flex-end;width: 50%;}#sk-container-id-2 div.sk-parallel-item:last-child::after {align-self: flex-start;width: 50%;}#sk-container-id-2 div.sk-parallel-item:only-child::after {width: 0;}#sk-container-id-2 div.sk-dashed-wrapped {border: 1px dashed gray;margin: 0 0.4em 0.5em 0.4em;box-sizing: border-box;padding-bottom: 0.4em;background-color: white;}#sk-container-id-2 div.sk-label label {font-family: monospace;font-weight: bold;display: inline-block;line-height: 1.2em;}#sk-container-id-2 div.sk-label-container {text-align: center;}#sk-container-id-2 div.sk-container {/* jupyter's `normalize.less` sets `[hidden] { display: none; }` but bootstrap.min.css set `[hidden] { display: none !important; }` so we also need the `!important` here to be able to override the default hidden behavior on the sphinx rendered scikit-learn.org. See: https://github.com/scikit-learn/scikit-learn/issues/21755 */display: inline-block !important;position: relative;}#sk-container-id-2 div.sk-text-repr-fallback {display: none;}</style><div id=\"sk-container-id-2\" class=\"sk-top-container\"><div class=\"sk-text-repr-fallback\"><pre>XGBClassifier(base_score=None, booster=None, callbacks=None,\n",
       "              colsample_bylevel=None, colsample_bynode=None,\n",
       "              colsample_bytree=0.8, device=None, early_stopping_rounds=None,\n",
       "              enable_categorical=False, eval_metric=None, feature_types=None,\n",
       "              gamma=None, grow_policy=None, importance_type=None,\n",
       "              interaction_constraints=None, learning_rate=0.1, max_bin=None,\n",
       "              max_cat_threshold=None, max_cat_to_onehot=None,\n",
       "              max_delta_step=None, max_depth=6, max_leaves=None,\n",
       "              min_child_weight=None, missing=nan, monotone_constraints=None,\n",
       "              multi_strategy=None, n_estimators=100, n_jobs=None,\n",
       "              num_parallel_tree=None, random_state=42, ...)</pre><b>In a Jupyter environment, please rerun this cell to show the HTML representation or trust the notebook. <br />On GitHub, the HTML representation is unable to render, please try loading this page with nbviewer.org.</b></div><div class=\"sk-container\" hidden><div class=\"sk-item\"><div class=\"sk-estimator sk-toggleable\"><input class=\"sk-toggleable__control sk-hidden--visually\" id=\"sk-estimator-id-2\" type=\"checkbox\" checked><label for=\"sk-estimator-id-2\" class=\"sk-toggleable__label sk-toggleable__label-arrow\">XGBClassifier</label><div class=\"sk-toggleable__content\"><pre>XGBClassifier(base_score=None, booster=None, callbacks=None,\n",
       "              colsample_bylevel=None, colsample_bynode=None,\n",
       "              colsample_bytree=0.8, device=None, early_stopping_rounds=None,\n",
       "              enable_categorical=False, eval_metric=None, feature_types=None,\n",
       "              gamma=None, grow_policy=None, importance_type=None,\n",
       "              interaction_constraints=None, learning_rate=0.1, max_bin=None,\n",
       "              max_cat_threshold=None, max_cat_to_onehot=None,\n",
       "              max_delta_step=None, max_depth=6, max_leaves=None,\n",
       "              min_child_weight=None, missing=nan, monotone_constraints=None,\n",
       "              multi_strategy=None, n_estimators=100, n_jobs=None,\n",
       "              num_parallel_tree=None, random_state=42, ...)</pre></div></div></div></div></div>"
      ],
      "text/plain": [
       "XGBClassifier(base_score=None, booster=None, callbacks=None,\n",
       "              colsample_bylevel=None, colsample_bynode=None,\n",
       "              colsample_bytree=0.8, device=None, early_stopping_rounds=None,\n",
       "              enable_categorical=False, eval_metric=None, feature_types=None,\n",
       "              gamma=None, grow_policy=None, importance_type=None,\n",
       "              interaction_constraints=None, learning_rate=0.1, max_bin=None,\n",
       "              max_cat_threshold=None, max_cat_to_onehot=None,\n",
       "              max_delta_step=None, max_depth=6, max_leaves=None,\n",
       "              min_child_weight=None, missing=nan, monotone_constraints=None,\n",
       "              multi_strategy=None, n_estimators=100, n_jobs=None,\n",
       "              num_parallel_tree=None, random_state=42, ...)"
      ]
     },
     "execution_count": 73,
     "metadata": {},
     "output_type": "execute_result"
    }
   ],
   "source": [
    "# Create an XGBoost classifier\n",
    "xgb_model = XGBClassifier(\n",
    "    n_estimators=100,          # Number of trees\n",
    "    learning_rate=0.1,         # Learning rate\n",
    "    subsample=0.8,             # Subsampling ratio of training instances\n",
    "    colsample_bytree=0.8,      # Subsampling ratio of columns when constructing trees\n",
    "    max_depth=6,               # Maximum depth of a tree\n",
    "    random_state=42,           # Random seed for reproducibility\n",
    ")\n",
    "\n",
    "# Train the XGBoost model\n",
    "xgb_model.fit(x_train, y_train)"
   ]
  },
  {
   "cell_type": "code",
   "execution_count": 74,
   "id": "29601d31",
   "metadata": {},
   "outputs": [],
   "source": [
    "# Make predictions\n",
    "y_pred_xgb = xgb_model.predict(x_test)\n",
    "y_pred_prob_xgb = xgb_model.predict_proba(x_test)[:, 1]"
   ]
  },
  {
   "cell_type": "markdown",
   "id": "ca9be309",
   "metadata": {},
   "source": [
    "### Evaluation"
   ]
  },
  {
   "cell_type": "code",
   "execution_count": 75,
   "id": "24ef6f94",
   "metadata": {},
   "outputs": [
    {
     "name": "stdout",
     "output_type": "stream",
     "text": [
      "Classification Report XGBoost Model:\n",
      "               precision    recall  f1-score   support\n",
      "\n",
      "           0       0.94      0.97      0.96      6990\n",
      "           1       0.89      0.78      0.83      2010\n",
      "\n",
      "    accuracy                           0.93      9000\n",
      "   macro avg       0.91      0.88      0.89      9000\n",
      "weighted avg       0.93      0.93      0.93      9000\n",
      "\n"
     ]
    }
   ],
   "source": [
    "# Classification Report\n",
    "print(\"Classification Report XGBoost Model:\\n\", classification_report(y_test, y_pred_xgb))"
   ]
  },
  {
   "cell_type": "markdown",
   "id": "c2c97dea",
   "metadata": {},
   "source": [
    "**Detailed Classification Report**\n",
    "\n",
    "**Accuracy:** 93%, indicating that the model correctly predicted 93% of the total 9,000 samples. This is a significant improvement compared to the Random Forest model.\n",
    "\n",
    "**F1-Score Macro:** 89%, showing a good balance between precision and recall for both classes, regardless of sample size.\n",
    "\n",
    "**F1-Score Weighted Average:** 93%, demonstrating that the model performs very well across both classes.\n",
    "\n",
    "---\n",
    "\n",
    "**Rejected Class:**\n",
    "\n",
    "* Precision: 0.94 → 94% of the predictions for class 0 are correct.\n",
    "* Recall: 0.97 → 97% of class 0 cases were successfully detected.\n",
    "* F1-Score: 0.96 → Very high, indicating a strong balance between precision and recall.\n",
    "\n",
    "The model is highly reliable in identifying the 'Rejected' class. False negatives are very low, with almost all class 0 cases correctly detected.\n",
    "\n",
    "---\n",
    "\n",
    "**Approved Class:**\n",
    "\n",
    "* Precision: 0.89 → 89% of the predictions for class 1 are correct.\n",
    "* Recall: 0.78 → 78% of class 1 cases were found.\n",
    "* F1-Score: 0.83 → Quite high and balanced.\n",
    "\n",
    "Performance on the minority class has improved significantly compared to Random Forest. Although recall decreased slightly from 90% to 78%, precision increased substantially from 60% to 89%. This means the model is more accurate when predicting class 1, reducing false positives considerably.\n",
    "\n",
    "---\n",
    "\n",
    "**Analysis**\n",
    "\n",
    "The XGBoost model shows more balanced and higher performance compared to Random Forest. XGBoost produces a more precise and overall stable model with fairer performance across classes."
   ]
  },
  {
   "cell_type": "markdown",
   "id": "b660e77e",
   "metadata": {},
   "source": [
    "# Save Best Model"
   ]
  },
  {
   "cell_type": "code",
   "execution_count": 76,
   "id": "7eee9047",
   "metadata": {},
   "outputs": [],
   "source": [
    "filename = 'XGB_model.pkl'\n",
    "pkl.dump(xgb_model, open(filename, 'wb'))"
   ]
  },
  {
   "cell_type": "markdown",
   "id": "67686d3f",
   "metadata": {},
   "source": [
    "After comparing the performance between models, XGBoost proved to be the best model for this dataset. Therefore, the XGBoost model was saved into a pickle file so it can be directly used in the Streamlit application without needing to retrain the model from scratch."
   ]
  }
 ],
 "metadata": {
  "kernelspec": {
   "display_name": "base",
   "language": "python",
   "name": "python3"
  },
  "language_info": {
   "codemirror_mode": {
    "name": "ipython",
    "version": 3
   },
   "file_extension": ".py",
   "mimetype": "text/x-python",
   "name": "python",
   "nbconvert_exporter": "python",
   "pygments_lexer": "ipython3",
   "version": "3.11.5"
  }
 },
 "nbformat": 4,
 "nbformat_minor": 5
}
